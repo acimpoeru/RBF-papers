{
 "metadata": {
  "name": "",
  "signature": "sha256:971029a0de7b639c45f584e6d5675b0894e6edf6447a062741a3fb2d3ea6ec24"
 },
 "nbformat": 3,
 "nbformat_minor": 0,
 "worksheets": [
  {
   "cells": [
    {
     "cell_type": "code",
     "collapsed": false,
     "input": [
      "%pylab inline\n",
      "import pylab as pl\n",
      "import math\n",
      "import numpy as np\n",
      "import matplotlib.pyplot as plt\n",
      "from mpl_toolkits.mplot3d import Axes3D\n",
      "import os"
     ],
     "language": "python",
     "metadata": {},
     "outputs": [
      {
       "output_type": "stream",
       "stream": "stdout",
       "text": [
        "Populating the interactive namespace from numpy and matplotlib\n"
       ]
      }
     ],
     "prompt_number": 1
    },
    {
     "cell_type": "code",
     "collapsed": false,
     "input": [
      "import funcVectorAlgebra \n",
      "#reload(funcVectorAlgebra)\n",
      "import deformation\n",
      "#reload(deformation)"
     ],
     "language": "python",
     "metadata": {},
     "outputs": [],
     "prompt_number": 2
    },
    {
     "cell_type": "code",
     "collapsed": false,
     "input": [
      "#from deformation import readGeometry, BeamTranform\n",
      "\n",
      "#file_beam_geometry = open(str(os.getcwd())+ '/deformation_and_translation/Z146_STBD_cut_04.geom',\"r\")\n",
      "\n",
      "    # read in the translation of the beam \n",
      "\n",
      "#file_beam_translation = open(str(os.getcwd())+ '/deformation_and_translation/Z146_STBD_cut_04.disp',\"r\")\n",
      "\n",
      "    # read in the rotation of the geometry\n",
      "#file_beam_geometry = open(str(os.getcwd())+ '/deformation_and_translation/Z146_STBD_cut_04.disp',\"r\")\n",
      "    \n",
      "def beam_deformation(x_surf_pt,y_surf_pt,z_surt_pt):\n",
      "    from deformation import readGeometry, BeamTranform\n",
      "    ''' tranform the beam into line segments'''\n",
      "    # read in the beam geometry\n",
      "    file_beam_geometry = open(str(os.getcwd())+ '/deformation_and_translation/Z146_STBD_cut_04.geom',\"r\")\n",
      "    print file_beam_geometry\n",
      "    # read in the translation of the beam \n",
      "\n",
      "    file_beam_translation = open(str(os.getcwd())+ '/deformation_and_translation/Z146_STBD_cut_04.disp',\"r\")\n",
      "\n",
      "    # read in the rotation of the geometry\n",
      "    file_beam_rotation = open(str(os.getcwd())+ '/deformation_and_translation/Z146_STBD_cut_04.disp',\"r\")\n",
      "    \n",
      "    beam_geom = readGeometry(file_beam_geometry)\n",
      "    segment_points = beam_geom.read_beam_geometry()\n",
      "    #print segment_points\n",
      "    line_segments=funcVectorAlgebra.segments(segment_points)\n",
      "    \n",
      "    ''' read in the new translated beam  '''\n",
      "    beamTrans = BeamTranform(file_beam_translation,file_beam_geometry,segment_points)\n",
      "    translation_demo_translation = beamTrans.read_translation()\n",
      "    \n",
      "    ''' read in the theta angle as segments '''\n",
      "    beamRot = BeamTranform(file_beam_rotation,file_beam_translation,segment_points)\n",
      "    theta_segments = beamRot.read_rotation()\n",
      "    surf_pt = (x_surf_pt,y_surf_pt,z_surt_pt)\n",
      "    \"\"\"\n",
      "    # implement the function and call it each time for each surface point \n",
      "    #for surf_pt in surface_points:\n",
      "    min_distance = 1e07\n",
      "    for segment in line_segments:\n",
      "        projected_point = funcVectorAlgebra.project(surf_pt,segment)\n",
      "            #print 'the projected point is     = ' ,projected_point\n",
      "        distance = funcVectorAlgebra.distance_points(surf_pt,projected_point)\n",
      "        if distance < min_distance:\n",
      "            min_distance=distance\n",
      "            \n",
      "            index1 = line_segments.index(segment)\n",
      "            \n",
      "            min_seg = line_segments[index1]\n",
      "            \n",
      "            \n",
      "            \n",
      "            q = projected_point\n",
      "            \n",
      "            ''' find the interpolation angle of theta'''\n",
      "            \n",
      "            translation_min_seg = translation_demo_translation[index1]\n",
      "               \n",
      "            min_seg_theta = theta_segments[index1]\n",
      "    print '                            '\n",
      "    print '                            '\n",
      "    print 'The dist is' ,min_distance,'from point P',surf_pt,'to point Q',q,'for segmt ApBp',min_seg,'seg theta',min_seg_theta\n",
      "    theta_interp = funcVectorAlgebra.theta_interpolation(min_seg_theta,q,min_seg)\n",
      "    print '                            '\n",
      "    print 'the interpolated theta at the projection point is   ', theta_interp\n",
      "    print '                            '\n",
      "    \n",
      "    ''' rotate the surface point P (surf_pt) about the projected point Q(q). Therefore the origin of the system\n",
      "    gets translated into the projected point Q(q) , and the axis of rotation is Y axis '''\n",
      "    origin_of_the_system = q\n",
      "    axis_rotation = (0.0,0.0,q[2])\n",
      "    rotated_point = funcVectorAlgebra.pointRotate3D(origin_of_the_system,axis_rotation,surf_pt,theta_interp)\n",
      "    rotation.append(rotated_point)\n",
      "    \n",
      "    \n",
      "    AB = translation_min_seg\n",
      "    CD = [surf_pt,q]\n",
      "    a_matrix = np.array([[(CD[1][0]-CD[0][0]),-(AB[1][0]-AB[0][0])],[(CD[1][1]-CD[0][1]),-(AB[1][1]-AB[0][1])]]) \n",
      "    b_matrix = np.array([[(AB[0][0]-CD[0][0])],[(AB[0][1]-CD[0][1])]])\n",
      "    x = np.linalg.solve(a_matrix,b_matrix)\n",
      "    s_paramater = x[0][0]\n",
      "    t_parameter = x[1][0]\n",
      "    ''' find the coordinates of the interpolated point '''\n",
      "    x_interp = (AB[1][0]-AB[0][0]) * t_parameter +  AB[0][0]\n",
      "    y_interp = (AB[1][1]-AB[0][1]) * t_parameter +  AB[0][1]\n",
      "    z_interp = (AB[1][2]-AB[0][2]) * t_parameter +  AB[0][2]\n",
      "    \n",
      "    interp_point = (x_interp,y_interp,z_interp)\n",
      "    #print 'The interpoled point is  ', interp_point\n",
      "    deformation = funcVectorAlgebra.distance_points(interp_point,q)\n",
      "    #print 'deform by translation    ', deformation\n",
      "    ''' work out the coordinates for the new point'''\n",
      "\n",
      "    deform_x_coordinate = funcVectorAlgebra.x_interpolation(interp_point,surf_pt,q)\n",
      "    deform_y_coordinate = funcVectorAlgebra.y_interpolation(interp_point,surf_pt,q)\n",
      "    deform_z_coordinate = funcVectorAlgebra.z_interpolation(interp_point,surf_pt,q)\n",
      "        \n",
      "    new_deformed_point = (deform_x_coordinate,deform_y_coordinate,deform_z_coordinate)\n",
      "    total_deformation.append(new_deformed_point)    \n",
      "        #print   'The coord of the new point are  ',new_deformed_point\n",
      "        \n",
      "    return {'v1' : deform_x_coordinate, 'v2' : deform_y_coordinate, 'v3' : deform_z_coordinate}\n",
      "    \"\"\""
     ],
     "language": "python",
     "metadata": {},
     "outputs": [],
     "prompt_number": 3
    },
    {
     "cell_type": "code",
     "collapsed": false,
     "input": [
      "\n"
     ],
     "language": "python",
     "metadata": {},
     "outputs": [],
     "prompt_number": 3
    },
    {
     "cell_type": "code",
     "collapsed": false,
     "input": [
      "from deformation import readGeometry, BeamTranform\n",
      "x_s = 0.5\n",
      "y_s = 0.5\n",
      "z_s = 0.5\n",
      "transform = beam_deformation(x_s,y_s,z_s)\n",
      "print transform\n"
     ],
     "language": "python",
     "metadata": {},
     "outputs": [
      {
       "output_type": "stream",
       "stream": "stdout",
       "text": [
        "<open file '/Users/andrei/Documents/test_cases/RBF papers/deformation_and_translation/Z146_STBD_cut_04.geom', mode 'r' at 0x112c60300>\n",
        "NodeNo\tX\t\t\tY\t\t\t\tZ\t\tEndline\t\tAngle\n",
        "\n",
        "I cannot convert string to float\n",
        "10001\t0.253232\t0.0401689\t-0.0399989\t0.000\t\t0\n",
        "\n",
        "10002\t0.2783898\t0.0809346\t-0.0360913\t0.048\t\t0\n",
        "\n",
        "10003\t0.3035483\t0.1217015\t-0.0322014\t0.095\t\t0\n",
        "\n",
        "10004\t0.3287125\t0.1624818\t-0.0284915\t0.143\t\t0\n",
        "\n",
        "10005\t0.3538621\t0.2032507\t-0.0245644\t0.190\t\t0\n",
        "\n",
        "10006\t0.3789844\t0.2439941\t-0.020222\t0.238\t\t0\n",
        "\n",
        "10007\t0.4040826\t0.2847248\t-0.0156258\t0.285\t\t0\n",
        "\n",
        "10008\t0.429167\t0.3254667\t-0.0110546\t0.333\t\t0\n",
        "\n",
        "10009\t0.4542358\t0.3662234\t-0.0065313\t0.380\t\t0\n",
        "\n",
        "10010\t0.4792987\t0.4070124\t-0.0022722\t0.428\t\t0\n",
        "\n",
        "10011\t0.5043516\t0.4478245\t0.0018204\t0.475\t\t0\n",
        "\n",
        "10012\t0.5293982\t0.4886621\t0.0056912\t0.523\t\t0\n",
        "\n",
        "10013\t0.5544362\t0.5295182\t0.0094203\t0.571\t\t0\n",
        "\n",
        "10014\t0.5794662\t0.5703904\t0.0130237\t0.618\t\t0\n",
        "\n",
        "10015\t0.6044871\t0.6112738\t0.0165643\t0.666\t\t0\n",
        "\n",
        "10016\t0.6295015\t0.652169\t0.0200123\t0.714\t\t0\n",
        "\n",
        "10017\t0.6545091\t0.6930723\t0.0234121\t0.761\t\t0\n",
        "\n",
        "10018\t0.6795097\t0.7339805\t0.0268067\t0.809\t\t0\n",
        "\n",
        "10019\t0.7045065\t0.7748948\t0.0301533\t0.857\t\t0\n",
        "\n",
        "10020\t0.7294966\t0.8158074\t0.0335711\t0.905\t\t0\n",
        "\n",
        "10021\t0.7544863\t0.8567254\t0.0369267\t0.952\t\t0\n",
        "\n",
        "10022\t0.779474\t0.8976426\t0.0403064\t1.000\t\t0\n",
        "I cannot convert string to float\n",
        "I cannot convert string to float\n",
        "None\n"
       ]
      }
     ],
     "prompt_number": 4
    },
    {
     "cell_type": "code",
     "collapsed": false,
     "input": [],
     "language": "python",
     "metadata": {},
     "outputs": [],
     "prompt_number": 6
    },
    {
     "cell_type": "code",
     "collapsed": false,
     "input": [
      "def plot_function1(my_list_of_points):\n",
      "    for point in range(0,len(my_list_of_points)):\n",
      "        #print list_points[point]\n",
      "        xs = np.array([my_list_of_points[point][0]])\n",
      "        ys = np.array([my_list_of_points[point][1]])\n",
      "        zs = np.array([my_list_of_points[point][2]])\n",
      "        plt.plot(xs,ys,zs,marker='.', markersize=10,color='b',label='surface points')\n",
      "\n",
      "\n",
      "\n",
      "\n",
      "def plot_function2(my_list_of_points):\n",
      "    for point in range(0,len(my_list_of_points)):\n",
      "        #print list_points[point]\n",
      "        xs = np.array([my_list_of_points[point][0]])\n",
      "        ys = np.array([my_list_of_points[point][1]])\n",
      "        zs = np.array([my_list_of_points[point][2]])\n",
      "        plt.plot(xs,ys,zs,marker='.', markersize=10,color='r',label='beam points')\n",
      "\n",
      "def plot_function3(my_list_of_points):\n",
      "    for point in range(0,len(my_list_of_points)):\n",
      "        #print list_points[point]\n",
      "        xs = np.array([my_list_of_points[point][0]])\n",
      "        ys = np.array([my_list_of_points[point][1]])\n",
      "        zs = np.array([my_list_of_points[point][2]])\n",
      "        plt.plot(xs,ys,zs,marker='.', markersize=10,color='g',label='projections')        "
     ],
     "language": "python",
     "metadata": {},
     "outputs": [],
     "prompt_number": 7
    },
    {
     "cell_type": "code",
     "collapsed": false,
     "input": [
      "\n",
      "\n",
      "\n",
      "\n"
     ],
     "language": "python",
     "metadata": {},
     "outputs": [
      {
       "metadata": {},
       "output_type": "pyout",
       "prompt_number": 14,
       "text": [
        "<__main__.Shape instance at 0x109007518>"
       ]
      }
     ],
     "prompt_number": 14
    },
    {
     "cell_type": "code",
     "collapsed": false,
     "input": [],
     "language": "python",
     "metadata": {},
     "outputs": [
      {
       "output_type": "stream",
       "stream": "stdout",
       "text": [
        "1\n"
       ]
      }
     ],
     "prompt_number": 6
    },
    {
     "cell_type": "code",
     "collapsed": false,
     "input": [],
     "language": "python",
     "metadata": {},
     "outputs": [
      {
       "output_type": "stream",
       "stream": "stdout",
       "text": [
        "(0.5, 0.5, 0.50253629185541215)\n"
       ]
      }
     ],
     "prompt_number": 8
    },
    {
     "cell_type": "code",
     "collapsed": false,
     "input": [
      "def mya(asd):\n",
      "    a = os.getcwd()\n",
      "    return a \n",
      "asd = mya(2)\n",
      "print asd"
     ],
     "language": "python",
     "metadata": {},
     "outputs": [
      {
       "output_type": "stream",
       "stream": "stdout",
       "text": [
        "/Users/andrei/Documents/test_cases/RBF papers\n"
       ]
      }
     ],
     "prompt_number": 6
    },
    {
     "cell_type": "code",
     "collapsed": false,
     "input": [],
     "language": "python",
     "metadata": {},
     "outputs": []
    }
   ],
   "metadata": {}
  }
 ]
}